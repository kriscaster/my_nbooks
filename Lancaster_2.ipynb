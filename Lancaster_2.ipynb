{
 "cells": [
  {
   "cell_type": "markdown",
   "id": "e4c4112b-7bb2-4e5c-8b43-17a5b1b91a6a",
   "metadata": {},
   "source": [
    "# Chapter 2 Assignment"
   ]
  },
  {
   "cell_type": "markdown",
   "id": "24c2699a-ba7f-4463-9965-585ecf6a6725",
   "metadata": {},
   "source": [
    "## Kristin Lancaster"
   ]
  },
  {
   "cell_type": "code",
   "execution_count": 10,
   "id": "797e4027-1857-4609-b922-0d9d3589cd1b",
   "metadata": {},
   "outputs": [],
   "source": [
    "import pandas as pd"
   ]
  },
  {
   "cell_type": "code",
   "execution_count": 15,
   "id": "eb76cc20-957d-4e73-a169-7ad0ce843cee",
   "metadata": {},
   "outputs": [],
   "source": [
    "df = pd.read_csv('ramen-ratings.csv')"
   ]
  },
  {
   "cell_type": "code",
   "execution_count": 17,
   "id": "4bb060d7-f0fa-43d6-b752-5fc4ba5eba60",
   "metadata": {},
   "outputs": [
    {
     "name": "stdout",
     "output_type": "stream",
     "text": [
      "            Brand                                            Variety Style  \\\n",
      "0       New Touch                          T's Restaurant Tantanmen    Cup   \n",
      "1        Just Way  Noodles Spicy Hot Sesame Spicy Hot Sesame Guan...  Pack   \n",
      "2          Nissin                      Cup Noodles Chicken Vegetable   Cup   \n",
      "3         Wei Lih                      GGE Ramen Snack Tomato Flavor  Pack   \n",
      "4  Ching's Secret                                    Singapore Curry  Pack   \n",
      "\n",
      "  Country  Stars  \n",
      "0   Japan   3.75  \n",
      "1  Taiwan   1.00  \n",
      "2     USA   2.25  \n",
      "3  Taiwan   2.75  \n",
      "4   India   3.75  \n"
     ]
    }
   ],
   "source": [
    "print(df.head())"
   ]
  },
  {
   "cell_type": "code",
   "execution_count": 16,
   "id": "ae2bcf61-4aa8-407d-8423-d64454eee609",
   "metadata": {},
   "outputs": [
    {
     "name": "stdout",
     "output_type": "stream",
     "text": [
      "         Brand                                            Variety Style  \\\n",
      "2572     Vifon  Hu Tiu Nam Vang [\"Phnom Penh\" style] Asian Sty...  Bowl   \n",
      "2573   Wai Wai                     Oriental Style Instant Noodles  Pack   \n",
      "2574   Wai Wai                                     Tom Yum Shrimp  Pack   \n",
      "2575   Wai Wai                               Tom Yum Chili Flavor  Pack   \n",
      "2576  Westbrae                                         Miso Ramen  Pack   \n",
      "\n",
      "       Country  Stars  \n",
      "2572   Vietnam    3.5  \n",
      "2573  Thailand    1.0  \n",
      "2574  Thailand    2.0  \n",
      "2575  Thailand    2.0  \n",
      "2576       USA    0.5  \n"
     ]
    }
   ],
   "source": [
    "print(df.tail())"
   ]
  },
  {
   "cell_type": "code",
   "execution_count": 18,
   "id": "acbf95a9-65bc-442c-a936-008c4dc312fe",
   "metadata": {},
   "outputs": [
    {
     "name": "stdout",
     "output_type": "stream",
     "text": [
      "             Stars\n",
      "count  2577.000000\n",
      "mean      3.654676\n",
      "std       1.015331\n",
      "min       0.000000\n",
      "25%       3.250000\n",
      "50%       3.750000\n",
      "75%       4.250000\n",
      "max       5.000000\n"
     ]
    }
   ],
   "source": [
    "print(df.describe())"
   ]
  },
  {
   "cell_type": "code",
   "execution_count": 19,
   "id": "e15ade5e-1c0b-4052-b83f-7a37a4da8d6c",
   "metadata": {},
   "outputs": [
    {
     "name": "stdout",
     "output_type": "stream",
     "text": [
      "Brand       355\n",
      "Variety    2410\n",
      "Style         7\n",
      "Country      38\n",
      "Stars        42\n",
      "dtype: int64\n"
     ]
    }
   ],
   "source": [
    "print(df.nunique())"
   ]
  },
  {
   "cell_type": "code",
   "execution_count": 21,
   "id": "875238eb-692b-48ff-b375-8025d36793df",
   "metadata": {},
   "outputs": [
    {
     "name": "stdout",
     "output_type": "stream",
     "text": [
      "              Brand                                            Variety Style  \\\n",
      "18         Binh Tay                                         Mi Hai Cua  Pack   \n",
      "52    Uni-President                                    Mushroom Flavor  Pack   \n",
      "143        Mum Ngon                                   Lau Tom Chua Cay  Pack   \n",
      "224           Vifon  Viet Cuisine Bun Rieu Cua Sour Crab Soup Insta...  Bowl   \n",
      "365         Acecook                             Oh! Ricey Pork Flavour  Pack   \n",
      "...             ...                                                ...   ...   \n",
      "2486       Binh Tay                                   Mi Chay Mushroom  Pack   \n",
      "2535        Ve Wong                             Kung-Fu Chicken Flavor  Pack   \n",
      "2570        Ve Wong                                      Mushroom Pork  Pack   \n",
      "2571          Vifon                                           Nam Vang  Pack   \n",
      "2572          Vifon  Hu Tiu Nam Vang [\"Phnom Penh\" style] Asian Sty...  Bowl   \n",
      "\n",
      "      Country  Stars  \n",
      "18    Vietnam   4.00  \n",
      "52    Vietnam   0.00  \n",
      "143   Vietnam   3.50  \n",
      "224   Vietnam   5.00  \n",
      "365   Vietnam   4.00  \n",
      "...       ...    ...  \n",
      "2486  Vietnam   2.75  \n",
      "2535  Vietnam   2.75  \n",
      "2570  Vietnam   1.00  \n",
      "2571  Vietnam   2.50  \n",
      "2572  Vietnam   3.50  \n",
      "\n",
      "[108 rows x 5 columns]\n"
     ]
    }
   ],
   "source": [
    "df_vietnam = df[df['Country'] == 'Vietnam']\n",
    "print(df_vietnam)"
   ]
  },
  {
   "cell_type": "code",
   "execution_count": 23,
   "id": "3def9ae3-57ba-4089-b669-623f1b2972eb",
   "metadata": {},
   "outputs": [
    {
     "name": "stdout",
     "output_type": "stream",
     "text": [
      "               Brand Style\n",
      "0          New Touch   Cup\n",
      "1           Just Way  Pack\n",
      "2             Nissin   Cup\n",
      "3            Wei Lih  Pack\n",
      "4     Ching's Secret  Pack\n",
      "...              ...   ...\n",
      "2572           Vifon  Bowl\n",
      "2573         Wai Wai  Pack\n",
      "2574         Wai Wai  Pack\n",
      "2575         Wai Wai  Pack\n",
      "2576        Westbrae  Pack\n",
      "\n",
      "[2577 rows x 2 columns]\n"
     ]
    }
   ],
   "source": [
    "df_brd_stl = df[['Brand','Style']]\n",
    "print(df_brd_stl)"
   ]
  },
  {
   "cell_type": "code",
   "execution_count": 24,
   "id": "810fc9be-801b-4794-856e-787b8a29ea0d",
   "metadata": {},
   "outputs": [
    {
     "name": "stdout",
     "output_type": "stream",
     "text": [
      "0          Japan\n",
      "1         Taiwan\n",
      "2            USA\n",
      "3         Taiwan\n",
      "4          India\n",
      "          ...   \n",
      "2572     Vietnam\n",
      "2573    Thailand\n",
      "2574    Thailand\n",
      "2575    Thailand\n",
      "2576         USA\n",
      "Name: Country, Length: 2577, dtype: object\n"
     ]
    }
   ],
   "source": [
    "df_cnty = df['Country']\n",
    "print(df_cnty)"
   ]
  },
  {
   "cell_type": "code",
   "execution_count": 29,
   "id": "aaddb811-6bad-4775-abdd-f432c1bcfaca",
   "metadata": {},
   "outputs": [
    {
     "name": "stdout",
     "output_type": "stream",
     "text": [
      "               Brand                                            Variety Style  \\\n",
      "1585     Prima Taste                            Singapore Laksa La Mian  Pack   \n",
      "446         Maruchan  Instant Lunch Chipotle Chicken Flavor Ramen No...   Cup   \n",
      "484         Nongshim          Champong Noodle Soup Spicy Seafood Flavor  Pack   \n",
      "483           Nissin                              Straits Kitchen Laksa  Pack   \n",
      "1613          Nissin                 Raoh Backfat Rich Soy Sauce Flavor  Bowl   \n",
      "...              ...                                                ...   ...   \n",
      "522             Koyo                 Garlic Pepper Reduced Sodium Ramen  Pack   \n",
      "561    Samyang Foods                            Honey & Cheese Big Bowl  Bowl   \n",
      "950            Azami                                Kimchee Noodle Soup   Cup   \n",
      "2079  Hsin Tung Yang                     Tiny Noodle With Oyster Flavor  Pack   \n",
      "52     Uni-President                                    Mushroom Flavor  Pack   \n",
      "\n",
      "          Country  Stars  \n",
      "1585    Singapore    5.0  \n",
      "446           USA    5.0  \n",
      "484   South Korea    5.0  \n",
      "483     Singapore    5.0  \n",
      "1613        Japan    5.0  \n",
      "...           ...    ...  \n",
      "522           USA    0.0  \n",
      "561   South Korea    0.0  \n",
      "950        Canada    0.0  \n",
      "2079       Taiwan    0.0  \n",
      "52        Vietnam    0.0  \n",
      "\n",
      "[2577 rows x 5 columns]\n"
     ]
    }
   ],
   "source": [
    "df_sorted = df.sort_values(by='Stars', ascending=False)\n",
    "print(df_sorted)"
   ]
  },
  {
   "cell_type": "code",
   "execution_count": 37,
   "id": "e833a038-e368-48d0-aef7-004bf3ed59dc",
   "metadata": {},
   "outputs": [
    {
     "name": "stdout",
     "output_type": "stream",
     "text": [
      "0               Japan\n",
      "1              Taiwan\n",
      "2       United States\n",
      "3              Taiwan\n",
      "4               India\n",
      "            ...      \n",
      "2572          Vietnam\n",
      "2573         Thailand\n",
      "2574         Thailand\n",
      "2575         Thailand\n",
      "2576    United States\n",
      "Name: Country, Length: 2577, dtype: object\n"
     ]
    }
   ],
   "source": [
    "df['Country'] = df['Country'].replace('USA', 'United States')\n",
    "print(df_Country)"
   ]
  },
  {
   "cell_type": "code",
   "execution_count": 38,
   "id": "e076fb0e-eb3c-46a7-aebf-d23e55221e35",
   "metadata": {},
   "outputs": [
    {
     "name": "stdout",
     "output_type": "stream",
     "text": [
      "            Brand                                            Variety Style  \\\n",
      "0       New Touch                          T's Restaurant Tantanmen    Cup   \n",
      "1        Just Way  Noodles Spicy Hot Sesame Spicy Hot Sesame Guan...  Pack   \n",
      "2          Nissin                      Cup Noodles Chicken Vegetable   Cup   \n",
      "3         Wei Lih                      GGE Ramen Snack Tomato Flavor  Pack   \n",
      "4  Ching's Secret                                    Singapore Curry  Pack   \n",
      "\n",
      "         Country  Stars  \n",
      "0          Japan   3.75  \n",
      "1         Taiwan   1.00  \n",
      "2  United States   2.25  \n",
      "3         Taiwan   2.75  \n",
      "4          India   3.75  \n"
     ]
    }
   ],
   "source": [
    "df['Country'] = df['Country'].replace('USA', 'United States')\n",
    "df.to_csv('UpdatedRamenData.csv',index=False)\n",
    "print(df.head())"
   ]
  },
  {
   "cell_type": "code",
   "execution_count": 39,
   "id": "64bc0e8d-3edf-4538-8ba6-af58eb7f982c",
   "metadata": {},
   "outputs": [
    {
     "name": "stdout",
     "output_type": "stream",
     "text": [
      "37\n"
     ]
    }
   ],
   "source": [
    "num_countries = df['Country'].nunique()\n",
    "print(num_countries)"
   ]
  },
  {
   "cell_type": "code",
   "execution_count": 43,
   "id": "280837b3-662a-432c-9e61-71bed10849f0",
   "metadata": {},
   "outputs": [
    {
     "name": "stdout",
     "output_type": "stream",
     "text": [
      "Country\n",
      "Brazil      4.350000\n",
      "Sarawak     4.333333\n",
      "Cambodia    4.200000\n",
      "Name: Stars, dtype: float64\n"
     ]
    }
   ],
   "source": [
    "top_countries = df.groupby('Country')['Stars'].mean().sort_values(ascending=False).head(3)\n",
    "print(top_countries)"
   ]
  },
  {
   "cell_type": "code",
   "execution_count": 44,
   "id": "022ae67d-ce45-4543-a930-1d17a3108e6f",
   "metadata": {},
   "outputs": [
    {
     "name": "stdout",
     "output_type": "stream",
     "text": [
      "Country\n",
      "Nigeria        1.500000\n",
      "Canada         2.243902\n",
      "Netherlands    2.483333\n",
      "Name: Stars, dtype: float64\n"
     ]
    }
   ],
   "source": [
    "top_countries = df.groupby('Country')['Stars'].mean().sort_values(ascending=True).head(3)\n",
    "print(top_countries)"
   ]
  },
  {
   "cell_type": "code",
   "execution_count": 46,
   "id": "38329b57-88d9-40c1-b609-250d189ce60b",
   "metadata": {},
   "outputs": [
    {
     "name": "stdout",
     "output_type": "stream",
     "text": [
      "Country\n",
      "Nigeria        1.500000\n",
      "Canada         2.243902\n",
      "Netherlands    2.483333\n",
      "Name: Stars, dtype: float64\n",
      "CPU times: total: 0 ns\n",
      "Wall time: 5.61 ms\n"
     ]
    }
   ],
   "source": [
    "%%time\n",
    "top_countries = df.groupby('Country')['Stars'].mean().sort_values(ascending=True).head(3)\n",
    "print(top_countries)"
   ]
  },
  {
   "cell_type": "code",
   "execution_count": null,
   "id": "70d1bc28-81a8-43d8-8c91-8fff282c86e4",
   "metadata": {},
   "outputs": [],
   "source": []
  }
 ],
 "metadata": {
  "kernelspec": {
   "display_name": "Python 3 (ipykernel)",
   "language": "python",
   "name": "python3"
  },
  "language_info": {
   "codemirror_mode": {
    "name": "ipython",
    "version": 3
   },
   "file_extension": ".py",
   "mimetype": "text/x-python",
   "name": "python",
   "nbconvert_exporter": "python",
   "pygments_lexer": "ipython3",
   "version": "3.10.9"
  }
 },
 "nbformat": 4,
 "nbformat_minor": 5
}
