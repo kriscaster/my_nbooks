{
 "cells": [
  {
   "cell_type": "markdown",
   "id": "e4c4112b-7bb2-4e5c-8b43-17a5b1b91a6a",
   "metadata": {},
   "source": [
    "# Chapter 2 Assignment"
   ]
  },
  {
   "cell_type": "markdown",
   "id": "24c2699a-ba7f-4463-9965-585ecf6a6725",
   "metadata": {},
   "source": [
    "## Kristin Lancaster"
   ]
  },
  {
   "cell_type": "code",
   "execution_count": 10,
   "id": "797e4027-1857-4609-b922-0d9d3589cd1b",
   "metadata": {},
   "outputs": [],
   "source": [
    "import pandas as pd"
   ]
  },
  {
   "cell_type": "code",
   "execution_count": 15,
   "id": "eb76cc20-957d-4e73-a169-7ad0ce843cee",
   "metadata": {},
   "outputs": [],
   "source": [
    "df = pd.read_csv('ramen-ratings.csv')"
   ]
  },
  {
   "cell_type": "code",
   "execution_count": 17,
   "id": "4bb060d7-f0fa-43d6-b752-5fc4ba5eba60",
   "metadata": {},
   "outputs": [
    {
     "name": "stdout",
     "output_type": "stream",
     "text": [
      "            Brand                                            Variety Style  \\\n",
      "0       New Touch                          T's Restaurant Tantanmen    Cup   \n",
      "1        Just Way  Noodles Spicy Hot Sesame Spicy Hot Sesame Guan...  Pack   \n",
      "2          Nissin                      Cup Noodles Chicken Vegetable   Cup   \n",
      "3         Wei Lih                      GGE Ramen Snack Tomato Flavor  Pack   \n",
      "4  Ching's Secret                                    Singapore Curry  Pack   \n",
      "\n",
      "  Country  Stars  \n",
      "0   Japan   3.75  \n",
      "1  Taiwan   1.00  \n",
      "2     USA   2.25  \n",
      "3  Taiwan   2.75  \n",
      "4   India   3.75  \n"
     ]
    }
   ],
   "source": [
    "print(df.head())"
   ]
  },
  {
   "cell_type": "code",
   "execution_count": null,
   "id": "70d1bc28-81a8-43d8-8c91-8fff282c86e4",
   "metadata": {},
   "outputs": [],
   "source": []
  }
 ],
 "metadata": {
  "kernelspec": {
   "display_name": "Python 3 (ipykernel)",
   "language": "python",
   "name": "python3"
  },
  "language_info": {
   "codemirror_mode": {
    "name": "ipython",
    "version": 3
   },
   "file_extension": ".py",
   "mimetype": "text/x-python",
   "name": "python",
   "nbconvert_exporter": "python",
   "pygments_lexer": "ipython3",
   "version": "3.10.9"
  }
 },
 "nbformat": 4,
 "nbformat_minor": 5
}
